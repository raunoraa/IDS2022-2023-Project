{
 "cells": [
  {
   "cell_type": "markdown",
   "id": "9e62ce99",
   "metadata": {},
   "source": [
    "# IDS2022-2023 Project"
   ]
  },
  {
   "cell_type": "code",
   "execution_count": null,
   "id": "fbaa9531",
   "metadata": {},
   "outputs": [],
   "source": []
  }
 ],
 "metadata": {
  "kernelspec": {
   "display_name": "Python 3 (ipykernel)",
   "language": "python",
   "name": "python3"
  },
  "language_info": {
   "codemirror_mode": {
    "name": "ipython",
    "version": 3
   },
   "file_extension": ".py",
   "mimetype": "text/x-python",
   "name": "python",
   "nbconvert_exporter": "python",
   "pygments_lexer": "ipython3",
   "version": "3.9.12"
  }
 },
 "nbformat": 4,
 "nbformat_minor": 5
}
